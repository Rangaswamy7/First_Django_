{
 "cells": [
  {
   "cell_type": "code",
   "execution_count": 3,
   "metadata": {},
   "outputs": [
    {
     "name": "stdout",
     "output_type": "stream",
     "text": [
      "3.141592653589793\n"
     ]
    }
   ],
   "source": [
    "from math import *\n",
    "print(pi)"
   ]
  },
  {
   "cell_type": "code",
   "execution_count": 4,
   "metadata": {},
   "outputs": [],
   "source": [
    "from abc import *"
   ]
  },
  {
   "cell_type": "code",
   "execution_count": 5,
   "metadata": {},
   "outputs": [
    {
     "ename": "ModuleNotFoundError",
     "evalue": "No module named 'abs'",
     "output_type": "error",
     "traceback": [
      "\u001b[1;31m---------------------------------------------------------------------------\u001b[0m",
      "\u001b[1;31mModuleNotFoundError\u001b[0m                       Traceback (most recent call last)",
      "\u001b[1;32m<ipython-input-5-5241416cf761>\u001b[0m in \u001b[0;36m<module>\u001b[1;34m\u001b[0m\n\u001b[1;32m----> 1\u001b[1;33m \u001b[1;32mfrom\u001b[0m \u001b[0mabs\u001b[0m \u001b[1;32mimport\u001b[0m \u001b[1;33m*\u001b[0m\u001b[1;33m\u001b[0m\u001b[1;33m\u001b[0m\u001b[0m\n\u001b[0m",
      "\u001b[1;31mModuleNotFoundError\u001b[0m: No module named 'abs'"
     ]
    }
   ],
   "source": [
    "from abs import *"
   ]
  },
  {
   "cell_type": "code",
   "execution_count": 11,
   "metadata": {},
   "outputs": [
    {
     "name": "stdout",
     "output_type": "stream",
     "text": [
      "6\n",
      "78\n",
      "Trainer\n",
      "Hello World!\n",
      "67km\n"
     ]
    }
   ],
   "source": [
    "class Human:\n",
    "    height=6\n",
    "    weight=78\n",
    "    def job(self,profession):\n",
    "        print(profession)\n",
    "    def speak(self,msg):\n",
    "        print(msg)\n",
    "    def walk(self,distance):\n",
    "        print(distance)\n",
    "aditya=Human()\n",
    "print(aditya.height)\n",
    "print(aditya.weight)\n",
    "aditya.job(\"Trainer\")\n",
    "aditya.speak(\"Hello World!\")\n",
    "aditya.walk('67km')"
   ]
  },
  {
   "cell_type": "code",
   "execution_count": 27,
   "metadata": {},
   "outputs": [
    {
     "name": "stdout",
     "output_type": "stream",
     "text": [
      "22\n",
      "white\n",
      "dog\n",
      "brown\n"
     ]
    },
    {
     "data": {
      "text/plain": [
       "'black'"
      ]
     },
     "execution_count": 27,
     "metadata": {},
     "output_type": "execute_result"
    }
   ],
   "source": [
    "class human:\n",
    "    colour='white'\n",
    "    age=22\n",
    "    height=5.4\n",
    "    weight=60\n",
    "    \n",
    "h1=human()\n",
    "print(h1.age)\n",
    "print(h1.colour)\n",
    "#print(colour)\n",
    "\n",
    "class animal:\n",
    "    type='dog'\n",
    "    color='brown'\n",
    "a=animal()\n",
    "print(a.type)\n",
    "color=a.color\n",
    "print(color)\n",
    "class car:\n",
    "    colour='black'\n",
    "C=car()\n",
    "C.colour"
   ]
  },
  {
   "cell_type": "code",
   "execution_count": null,
   "metadata": {},
   "outputs": [],
   "source": [
    "class car1:\n",
    "    pass\n",
    "m=car1\n",
    "class car2:\n",
    "    pass\n",
    "g="
   ]
  }
 ],
 "metadata": {
  "kernelspec": {
   "display_name": "Python 3",
   "language": "python",
   "name": "python3"
  },
  "language_info": {
   "codemirror_mode": {
    "name": "ipython",
    "version": 3
   },
   "file_extension": ".py",
   "mimetype": "text/x-python",
   "name": "python",
   "nbconvert_exporter": "python",
   "pygments_lexer": "ipython3",
   "version": "3.7.3"
  }
 },
 "nbformat": 4,
 "nbformat_minor": 2
}
